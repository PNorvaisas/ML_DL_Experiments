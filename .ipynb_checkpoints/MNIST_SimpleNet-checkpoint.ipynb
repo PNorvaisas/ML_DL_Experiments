{
 "cells": [
  {
   "cell_type": "markdown",
   "metadata": {},
   "source": [
    "# Test some random networks with MNIST dataset"
   ]
  },
  {
   "cell_type": "code",
   "execution_count": 1,
   "metadata": {},
   "outputs": [],
   "source": [
    "import sys\n",
    "\n",
    "sys.path.append(\"./src\")"
   ]
  },
  {
   "cell_type": "code",
   "execution_count": 3,
   "metadata": {},
   "outputs": [],
   "source": [
    "#This suppresses h5py errors\n",
    "import os\n",
    "os.environ[\"TF_CPP_MIN_LOG_LEVEL\"]=\"3\"\n",
    "\n",
    "\n",
    "import numpy as np\n",
    "import mnist_loader\n",
    "import mnist\n",
    "import matplotlib.pyplot as plt\n",
    "\n",
    "\n",
    "import keras\n",
    "# Import EarlyStopping\n",
    "from keras.callbacks import EarlyStopping\n",
    "\n",
    "from keras.layers import Dense\n",
    "from keras.models import Sequential\n",
    "from keras.datasets import mnist as mnistdata"
   ]
  },
  {
   "cell_type": "code",
   "execution_count": 4,
   "metadata": {},
   "outputs": [],
   "source": [
    "training_data, validation_data, test_data = mnist_loader.load_data()\n",
    "\n",
    "\n",
    "#from keras.datasets import mnist\n",
    "\n",
    "#training_data, test_data = mnistdata.load_data()\n",
    "\n",
    "\n",
    "# Specify the model\n",
    "\n",
    "batch_size = 128\n",
    "num_classes = 10\n",
    "epochs = 12\n",
    "span=60000\n",
    "\n",
    "train_nums=training_data[0][:span]\n",
    "train_vals=keras.utils.to_categorical(training_data[1][:span], num_classes)\n",
    "\n",
    "\n",
    "\n",
    "test_nums=validation_data[0]\n",
    "test_vals=keras.utils.to_categorical(validation_data[1], num_classes)"
   ]
  },
  {
   "cell_type": "code",
   "execution_count": 5,
   "metadata": {},
   "outputs": [],
   "source": [
    "n_cols = train_nums.shape[1]\n",
    "\n",
    "# Set up the model\n",
    "model = Sequential()\n",
    "\n",
    "# Add the first layer\n",
    "model.add(Dense(784,activation=\"relu\",input_shape=(784,)))\n",
    "model.add(Dense(100,activation=\"relu\"))\n",
    "model.add(Dense(100,activation=\"relu\"))\n",
    "model.add(Dense(50,activation=\"relu\"))\n",
    "\n",
    "# Add the output layer\n",
    "model.add(Dense(10,activation=\"softmax\"))\n",
    "\n",
    "\n",
    "# Compile the model\n",
    "model.compile(optimizer='sgd',loss='categorical_crossentropy',metrics=['accuracy'])\n",
    "\n",
    "\n",
    "# Define early_stopping_monitor\n",
    "early_stopping_monitor = EarlyStopping(patience=2)"
   ]
  },
  {
   "cell_type": "code",
   "execution_count": 7,
   "metadata": {},
   "outputs": [
    {
     "name": "stdout",
     "output_type": "stream",
     "text": [
      "Train on 40000 samples, validate on 10000 samples\n",
      "Epoch 1/12\n",
      "40000/40000 [==============================] - 4s 103us/step - loss: 0.3154 - acc: 0.9103 - val_loss: 0.3172 - val_acc: 0.9053\n",
      "Epoch 2/12\n",
      "40000/40000 [==============================] - 4s 104us/step - loss: 0.2811 - acc: 0.9203 - val_loss: 0.2962 - val_acc: 0.9150\n",
      "Epoch 3/12\n",
      "40000/40000 [==============================] - 4s 102us/step - loss: 0.2548 - acc: 0.9274 - val_loss: 0.2634 - val_acc: 0.9242\n",
      "Epoch 4/12\n",
      "40000/40000 [==============================] - 4s 104us/step - loss: 0.2327 - acc: 0.9330 - val_loss: 0.2435 - val_acc: 0.9297\n",
      "Epoch 5/12\n",
      "40000/40000 [==============================] - 4s 103us/step - loss: 0.2139 - acc: 0.9394 - val_loss: 0.2409 - val_acc: 0.9287\n",
      "Epoch 6/12\n",
      "40000/40000 [==============================] - 4s 103us/step - loss: 0.1981 - acc: 0.9434 - val_loss: 0.2245 - val_acc: 0.9359\n",
      "Epoch 7/12\n",
      "40000/40000 [==============================] - 4s 103us/step - loss: 0.1840 - acc: 0.9472 - val_loss: 0.2183 - val_acc: 0.9339\n",
      "Epoch 8/12\n",
      "40000/40000 [==============================] - 4s 103us/step - loss: 0.1724 - acc: 0.9508 - val_loss: 0.1985 - val_acc: 0.9432\n",
      "Epoch 9/12\n",
      "40000/40000 [==============================] - 4s 102us/step - loss: 0.1608 - acc: 0.9546 - val_loss: 0.2018 - val_acc: 0.9411\n",
      "Epoch 10/12\n",
      "40000/40000 [==============================] - 4s 103us/step - loss: 0.1508 - acc: 0.9569 - val_loss: 0.1878 - val_acc: 0.9446\n",
      "Epoch 11/12\n",
      "40000/40000 [==============================] - 4s 103us/step - loss: 0.1424 - acc: 0.9592 - val_loss: 0.1773 - val_acc: 0.9463\n",
      "Epoch 12/12\n",
      "40000/40000 [==============================] - 4s 103us/step - loss: 0.1335 - acc: 0.9621 - val_loss: 0.1785 - val_acc: 0.9482\n"
     ]
    }
   ],
   "source": [
    "# Fit the model\n",
    "fit=model.fit(train_nums,train_vals,\n",
    "              batch_size=batch_size,\n",
    "              verbose=1,\n",
    "              validation_split=0.2,\n",
    "              epochs=epochs,\n",
    "              callbacks=[early_stopping_monitor])\n",
    "\n",
    "\n",
    "model.save('models/keras_784-100-100-50.h5')"
   ]
  },
  {
   "cell_type": "code",
   "execution_count": 8,
   "metadata": {},
   "outputs": [
    {
     "data": {
      "image/png": "[encoded data removed]",
      "text/plain": [
       "<matplotlib.figure.Figure at 0x7f36e87ab3d0>"
      ]
     },
     "metadata": {},
     "output_type": "display_data"
    }
   ],
   "source": [
    "# Create the plot\n",
    "plt.plot(fit.history['val_acc'], 'r')\n",
    "plt.xlabel('Epochs')\n",
    "plt.ylabel('Validation accuracy')\n",
    "plt.show()"
   ]
  },
  {
   "cell_type": "code",
   "execution_count": 35,
   "metadata": {},
   "outputs": [],
   "source": [
    "# Calculate predictions: predictions\n",
    "predictions = model.predict(test_data[0])\n",
    "\n",
    "pred_vals=np.asarray([np.argmax(pred) for pred in predictions])\n",
    "pred_sign=[ np.round(predictions[i,pred],2) for i,pred in enumerate(pred_vals)]"
   ]
  },
  {
   "cell_type": "code",
   "execution_count": 56,
   "metadata": {},
   "outputs": [
    {
     "data": {
      "image/png": "[encoded data removed]",
      "text/plain": [
       "<matplotlib.figure.Figure at 0x7f36c478b7d0>"
      ]
     },
     "metadata": {},
     "output_type": "display_data"
    },
    {
     "data": {
      "text/plain": [
       "[0.62, 0.96, 1.0, 0.98, 0.95, 0.81, 1.0, 0.67, 0.97, 1.0]"
      ]
     },
     "execution_count": 56,
     "metadata": {},
     "output_type": "execute_result"
    }
   ],
   "source": [
    "test_set_size=test_data[0].shape[0]\n",
    "rndsel=np.random.randint(test_set_size, size=10).tolist()\n",
    "\n",
    "\n",
    "test_imgs=mnist.get_images(test_data)\n",
    "\n",
    "mnist.plot_images_together([test_imgs[ind] for ind in  rndsel ])\n",
    "\n",
    "[pred_vals[ind] for ind in rndsel];\n",
    "[pred_sign[ind] for ind in rndsel]"
   ]
  }
 ],
 "metadata": {
  "kernelspec": {
   "display_name": "Python 2",
   "language": "python",
   "name": "python2"
  },
  "language_info": {
   "codemirror_mode": {
    "name": "ipython",
    "version": 2
   },
   "file_extension": ".py",
   "mimetype": "text/x-python",
   "name": "python",
   "nbconvert_exporter": "python",
   "pygments_lexer": "ipython2",
   "version": "2.7.6"
  }
 },
 "nbformat": 4,
 "nbformat_minor": 2
}
